{
 "cells": [
  {
   "cell_type": "code",
   "execution_count": null,
   "metadata": {},
   "outputs": [],
   "source": []
  },
  {
   "cell_type": "code",
   "execution_count": 1,
   "metadata": {},
   "outputs": [],
   "source": [
    "PORT = 8080\n",
    "#store url of peer nodes\n",
    "peer_nodes = [8070,8080,8090,9000]\n",
    "peer_nodes.remove(PORT)\n"
   ]
  },
  {
   "cell_type": "code",
   "execution_count": 2,
   "metadata": {},
   "outputs": [],
   "source": [
    "from flask import Flask #flask is similar to django\n",
    "from flask import request\n",
    "import json\n",
    "import requests\n",
    "import hashlib\n",
    "import datetime as date\n",
    "from requests.exceptions import ConnectionError"
   ]
  },
  {
   "cell_type": "code",
   "execution_count": 3,
   "metadata": {},
   "outputs": [],
   "source": [
    "node = Flask(__name__)"
   ]
  },
  {
   "cell_type": "code",
   "execution_count": 4,
   "metadata": {},
   "outputs": [],
   "source": [
    "class Block:\n",
    "    def __init__(self,index,timestamp,data,nonce,previous_hash,cur_hash):\n",
    "        \n",
    "        self.index = index\n",
    "        self.timestamp = str(timestamp)\n",
    "        self.data = data\n",
    "        self.nonce = nonce\n",
    "        self.previous_hash = str(previous_hash)\n",
    "        self.hash = str(cur_hash) \n",
    "        \n",
    "    def hash_block(self):\n",
    "        print(\"In hash()\")\n",
    "        print(self.index,self.timestamp,self.data,self.previous_hash,self.nonce,self.hash)\n",
    "        #all the data to hash upon, note: it needs to be encoded to utf-8\n",
    "        prehash = (str(self.index)+str(self.timestamp)+str(self.data)+str(self.previous_hash)+str(self.nonce)).encode('utf-8') \n",
    "        result = hashlib.sha256(prehash)\n",
    "        return str(result.hexdigest())"
   ]
  },
  {
   "cell_type": "code",
   "execution_count": 5,
   "metadata": {},
   "outputs": [],
   "source": [
    "address = \"user2_addr\""
   ]
  },
  {
   "cell_type": "code",
   "execution_count": 6,
   "metadata": {},
   "outputs": [],
   "source": [
    "blockchain = []\n",
    "pending_transactions = []"
   ]
  },
  {
   "cell_type": "code",
   "execution_count": 7,
   "metadata": {},
   "outputs": [],
   "source": [
    "def create_transaction(peer_addr,amt):\n",
    "    global blockchain\n",
    "    global pending_transactions\n",
    "    pending_transactions.append({\"from\":address,\"to\":peer_addr,\"amt\":amt})"
   ]
  },
  {
   "cell_type": "code",
   "execution_count": 8,
   "metadata": {},
   "outputs": [],
   "source": [
    "@node.route('/getPendingTransactions', methods=['GET'])\n",
    "def sendPendingTransactions():\n",
    "    global blockchain\n",
    "    global pending_transactions\n",
    "    \n",
    "    print(pending_transactions)\n",
    "    pending_transactions_json = json.dumps(pending_transactions)\n",
    "    pending_transactions = []\n",
    "    return pending_transactions_json"
   ]
  },
  {
   "cell_type": "code",
   "execution_count": 9,
   "metadata": {},
   "outputs": [],
   "source": [
    "def get_chain_json():\n",
    "    global blockchain\n",
    "    global pending_transactions\n",
    "    chain_to_send = []\n",
    "    #convert blocks into dictionaries so that they can be sent as json objects\n",
    "    for block in blockchain:\n",
    "        chain_to_send.append({\n",
    "            \"index\": block.index,\n",
    "            \"timestamp\": block.timestamp,\n",
    "            \"data\" : block.data,\n",
    "            \"nonce\" : block.nonce,\n",
    "            \"previous_hash\" : block.previous_hash,\n",
    "            \"hash\" : block.hash\n",
    "        })\n",
    "    \n",
    "    #convert the list of dicts into json object\n",
    "    chain_to_send = json.dumps(chain_to_send)\n",
    "    return chain_to_send"
   ]
  },
  {
   "cell_type": "code",
   "execution_count": 10,
   "metadata": {},
   "outputs": [],
   "source": [
    "@node.route('/getchain', methods=['GET'])\n",
    "def send_chain():\n",
    "    global blockchain\n",
    "    global pending_transactions\n",
    "    \n",
    "    \n",
    "    \n",
    "    print(\"chain sent successfully\")\n",
    "    return  get_chain_json()"
   ]
  },
  {
   "cell_type": "code",
   "execution_count": 11,
   "metadata": {},
   "outputs": [],
   "source": [
    "#check if computed hash on each block is equal to hash stored in it\n",
    "def verify_chain(chain):\n",
    "    global blockchain\n",
    "    global pending_transactions\n",
    "    for block in chain[1:]:\n",
    "        if str(block.hash_block()) != block.hash:\n",
    "            print(\"computed hash:\",block.hash_block())\n",
    "            print(\"hash found:\",block.hash)\n",
    "            print(\"chain Invalid at block index\",block.index)\n",
    "            return False\n",
    "    return True"
   ]
  },
  {
   "cell_type": "code",
   "execution_count": 12,
   "metadata": {},
   "outputs": [],
   "source": [
    "#obtain new longest chain from peers using their localhost urls\n",
    "@node.route('/updateChain', methods=['GET'])\n",
    "def find_new_longest_chain():\n",
    "    global blockchain\n",
    "    global pending_transactions\n",
    "    for peer_port in peer_nodes:\n",
    "        node_url = \"http://localhost:\" + str(peer_port)\n",
    "        peer_chain_json = requests.get(node_url + \"/getchain\").content\n",
    "        peer_chain_dict = json.loads(peer_chain_json)\n",
    "        \n",
    "        peer_chain = []\n",
    "        for b in peer_chain_dict:\n",
    "            block = Block(b[\"index\"],b[\"timestamp\"],b[\"data\"],b[\"nonce\"],b[\"previous_hash\"],b[\"hash\"])\n",
    "            peer_chain.append(block)\n",
    "        \n",
    "        if verify_chain(peer_chain) and len(peer_chain) > len(blockchain):\n",
    "            print(\"Blockchain updated\")\n",
    "            blockchain = peer_chain\n",
    "        \n",
    "            \n",
    "    print(blockchain)\n",
    "    return get_chain_json()"
   ]
  },
  {
   "cell_type": "code",
   "execution_count": 13,
   "metadata": {},
   "outputs": [],
   "source": [
    "@node.route('/txion', methods=['POST'])\n",
    "def transaction():\n",
    "    global blockchain\n",
    "    global pending_transactions\n",
    "    #a json object is sent here containing details of the new transaction\n",
    "    new_transaction = request.get_json()\n",
    "#     new_transaction = json.loads(new_transaction)\n",
    "    new_transaction[\"from\"] = address\n",
    "    pending_transactions.append(new_transaction)\n",
    "    print(pending_transactions)\n",
    "#     print(\"New transaction\")\n",
    "#     print(\"From:\",new_transaction[\"from\"].encode('ascii','replace'))\n",
    "#     print(\"To:\",new_transaction[\"to\"].encode('ascii','replace'))\n",
    "#     print(\"Amount:\",new_transaction[\"amount\"])\n",
    "    \n",
    "    #now send the client who sent request a msg\n",
    "    return \"Transaction added to pending transaction\\n\""
   ]
  },
  {
   "cell_type": "code",
   "execution_count": 14,
   "metadata": {
    "scrolled": false
   },
   "outputs": [
    {
     "name": "stdout",
     "output_type": "stream",
     "text": [
      " * Serving Flask app \"__main__\" (lazy loading)\n",
      " * Environment: production\n",
      "   WARNING: Do not use the development server in a production environment.\n",
      "   Use a production WSGI server instead.\n",
      " * Debug mode: off\n"
     ]
    },
    {
     "name": "stderr",
     "output_type": "stream",
     "text": [
      " * Running on http://0.0.0.0:8080/ (Press CTRL+C to quit)\n",
      "127.0.0.1 - - [03/Nov/2020 09:23:52] \"\u001b[37mGET /getchain HTTP/1.1\u001b[0m\" 200 -\n",
      "127.0.0.1 - - [03/Nov/2020 09:23:52] \"\u001b[37mGET /getPendingTransactions HTTP/1.1\u001b[0m\" 200 -\n"
     ]
    },
    {
     "name": "stdout",
     "output_type": "stream",
     "text": [
      "chain sent successfully\n",
      "[]\n"
     ]
    },
    {
     "name": "stderr",
     "output_type": "stream",
     "text": [
      "127.0.0.1 - - [03/Nov/2020 09:24:02] \"\u001b[37mGET /getchain HTTP/1.1\u001b[0m\" 200 -\n"
     ]
    },
    {
     "name": "stdout",
     "output_type": "stream",
     "text": [
      "chain sent successfully\n"
     ]
    },
    {
     "name": "stderr",
     "output_type": "stream",
     "text": [
      "127.0.0.1 - - [03/Nov/2020 09:24:08] \"\u001b[37mGET /updateChain HTTP/1.1\u001b[0m\" 200 -\n"
     ]
    },
    {
     "name": "stdout",
     "output_type": "stream",
     "text": [
      "In hash()\n",
      "1 2020-11-03 09:23:52.639956 [[{'to': 'e', 'amount': 10, 'from': 'user1_addr'}, {'to': 'f', 'amount': 10, 'from': 'user1_addr'}, {'to': 'g', 'amount': 10, 'from': 'user1_addr'}], [], []] c64b958390bebecf84e44327b226b6fd36f4c01b4e240dc5af377d315ad299eb 135 0008968996be1d1750e3e2a486ee9e3fc0145a4669e600a65d67c201f03603de\n",
      "Blockchain updated\n",
      "In hash()\n",
      "1 2020-11-03 09:23:52.639956 [[{'to': 'e', 'amount': 10, 'from': 'user1_addr'}, {'to': 'f', 'amount': 10, 'from': 'user1_addr'}, {'to': 'g', 'amount': 10, 'from': 'user1_addr'}], [], []] c64b958390bebecf84e44327b226b6fd36f4c01b4e240dc5af377d315ad299eb 135 0008968996be1d1750e3e2a486ee9e3fc0145a4669e600a65d67c201f03603de\n",
      "[<__main__.Block object at 0x7fbf67ea2c88>, <__main__.Block object at 0x7fbf67ea2c50>]\n"
     ]
    }
   ],
   "source": [
    "node.run(host='0.0.0.0', port=PORT, threaded=True, debug=False)\n",
    "\n",
    "# while(True):\n",
    "#     inp = input(\"1 for create transaction, 2 for view chain\")\n",
    "#     if inp == \"1\":\n",
    "#         peer_addr = input(\"peer_addr: \")\n",
    "#         amt = input(\"amount: \")\n",
    "#         print(peer_addr,amt)\n",
    "#         create_transaction(peer_addr,amt)\n",
    "#         print(\"Pending Transactions\",pending_transactions)\n",
    "#     else:\n",
    "#         find_new_longest_chain()\n",
    "#         print(blockchain)\n",
    "        "
   ]
  },
  {
   "cell_type": "code",
   "execution_count": null,
   "metadata": {},
   "outputs": [],
   "source": []
  }
 ],
 "metadata": {
  "kernelspec": {
   "display_name": "Python 3",
   "language": "python",
   "name": "python3"
  },
  "language_info": {
   "codemirror_mode": {
    "name": "ipython",
    "version": 3
   },
   "file_extension": ".py",
   "mimetype": "text/x-python",
   "name": "python",
   "nbconvert_exporter": "python",
   "pygments_lexer": "ipython3",
   "version": "3.7.3"
  }
 },
 "nbformat": 4,
 "nbformat_minor": 2
}
