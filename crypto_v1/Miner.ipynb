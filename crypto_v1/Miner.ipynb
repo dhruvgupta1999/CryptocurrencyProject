{
 "cells": [
  {
   "cell_type": "code",
   "execution_count": 1,
   "metadata": {},
   "outputs": [],
   "source": [
    "PORT = 9000\n",
    "#store url of peer nodes\n",
    "peer_nodes = [8070,8080,8090,9000]\n",
    "peer_nodes.remove(PORT)"
   ]
  },
  {
   "cell_type": "code",
   "execution_count": 2,
   "metadata": {},
   "outputs": [],
   "source": [
    "from flask import Flask #flask is similar to django\n",
    "from flask import request\n",
    "import json\n",
    "import requests\n",
    "import hashlib\n",
    "import datetime as date"
   ]
  },
  {
   "cell_type": "code",
   "execution_count": 3,
   "metadata": {},
   "outputs": [],
   "source": [
    "node = Flask(__name__)"
   ]
  },
  {
   "cell_type": "code",
   "execution_count": 4,
   "metadata": {},
   "outputs": [],
   "source": [
    "class Block:\n",
    "    def __init__(self,index,timestamp,data,nonce,previous_hash,cur_hash=\"\"):\n",
    "        \n",
    "        self.index = index\n",
    "        self.timestamp = str(timestamp)\n",
    "        self.data = data\n",
    "        self.nonce = nonce\n",
    "        self.previous_hash = previous_hash\n",
    "        self.hash = cur_hash \n",
    "        \n",
    "    def hash_block(self):\n",
    "        #all the data to hash upon, note: it needs to be encoded to utf-8\n",
    "        prehash = (str(self.index)+str(self.timestamp)+str(self.data)+str(self.previous_hash)+str(self.nonce)).encode('utf-8') \n",
    "        result = hashlib.sha256(prehash)\n",
    "        return str(result.hexdigest())\n",
    "    \n",
    "    def proof_of_work(self):\n",
    "        global blockchain\n",
    "        global pending_peer_requests\n",
    "        print(\"finding PoW\")\n",
    "        self.nonce = 0\n",
    "        x = self.hash_block()\n",
    "        while(x[:2]!='00'):\n",
    "            self.nonce = self.nonce+1\n",
    "            x = self.hash_block()\n",
    "        self.hash = x\n",
    "        print(self.index,self.timestamp,self.data,self.previous_hash,self.nonce,self.hash)"
   ]
  },
  {
   "cell_type": "code",
   "execution_count": 5,
   "metadata": {},
   "outputs": [],
   "source": [
    "address = \"miner_1\"\n"
   ]
  },
  {
   "cell_type": "code",
   "execution_count": 6,
   "metadata": {},
   "outputs": [],
   "source": [
    "blockchain = []\n",
    "pending_peer_requests = []"
   ]
  },
  {
   "cell_type": "code",
   "execution_count": 7,
   "metadata": {},
   "outputs": [],
   "source": [
    "@node.route('/getchain', methods=['GET'])\n",
    "def get_chain_json():\n",
    "    global blockchain\n",
    "    global pending_peer_requests\n",
    "    #convert blocks into dictionaries so that they can be sent as json objects\n",
    "    chain_to_send = []\n",
    "    for block in blockchain:\n",
    "        chain_to_send.append({\n",
    "            \"index\": block.index,\n",
    "            \"timestamp\": block.timestamp,\n",
    "            \"data\" : block.data,\n",
    "            \"nonce\" : block.nonce,\n",
    "            \"previous_hash\" : block.previous_hash,\n",
    "            \"hash\" : block.hash\n",
    "        })\n",
    "    \n",
    "    #convert the list of dicts into json object\n",
    "    chain_to_send = json.dumps(chain_to_send)\n",
    "    return chain_to_send\n",
    "\n",
    "\n",
    "def send_chain():\n",
    "    \n",
    "    \n",
    "    global blockchain\n",
    "    global pending_peer_requests\n",
    "    print(\"chain sent successfully\")\n",
    "    return  get_chain_json()\n",
    "\n",
    "#check if computed hash on each block is equal to hash stored in it\n",
    "def verify_chain(chain):\n",
    "    global blockchain\n",
    "    global pending_peer_requests\n",
    "    for block in chain[1:]:\n",
    "        if block.hash_block() != block.hash:\n",
    "            return False\n",
    "    return True\n",
    "\n",
    "#obtain new longest chain from peers using their localhost urls\n",
    "#obtain new longest chain from peers using their localhost urls\n",
    "@node.route('/updateChain', methods=['GET'])\n",
    "def find_new_longest_chain():\n",
    "    \n",
    "    global blockchain\n",
    "    global pending_peer_requests\n",
    "    for peer_port in peer_nodes:\n",
    "        node_url = \"http://localhost:\" + str(peer_port)\n",
    "        peer_chain_json = requests.get(node_url + \"/getchain\").content\n",
    "        if(peer_chain_json is None):\n",
    "            print(\"pee_chain_json is None\")\n",
    "        peer_chain_dict = json.loads(peer_chain_json)\n",
    "        \n",
    "        peer_chain = []\n",
    "        for b in peer_chain_dict:\n",
    "            block = Block(b[\"index\"],b[\"timestamp\"],b[\"data\"],b[\"nonce\"],b[\"previous_hash\"],b[\"hash\"])\n",
    "            peer_chain.append(block)\n",
    "        \n",
    "        if verify_chain(peer_chain) and len(peer_chain) > len(blockchain):\n",
    "            print(\"Blockchain updated\")\n",
    "            blockchain = peer_chain\n",
    "        \n",
    "            \n",
    "    print(blockchain)\n",
    "    return get_chain_json()"
   ]
  },
  {
   "cell_type": "code",
   "execution_count": 8,
   "metadata": {},
   "outputs": [],
   "source": [
    "def create_genesis_block():\n",
    "    global blockchain\n",
    "    global pending_peer_requests\n",
    "    block = Block(0,str(date.datetime.now()), \"NoTransactionsYet\",0 , \"NoPreviousHashYet\")\n",
    "    block.hash = block.hash_block()\n",
    "    blockchain.append(block)"
   ]
  },
  {
   "cell_type": "code",
   "execution_count": 9,
   "metadata": {},
   "outputs": [
    {
     "name": "stdout",
     "output_type": "stream",
     "text": [
      "created genesis block hash:  c64b958390bebecf84e44327b226b6fd36f4c01b4e240dc5af377d315ad299eb\n"
     ]
    }
   ],
   "source": [
    "#miner creates genesis block:\n",
    "\n",
    "create_genesis_block()\n",
    "print(\"created genesis block\",\"hash: \",blockchain[0].hash)"
   ]
  },
  {
   "cell_type": "code",
   "execution_count": 10,
   "metadata": {},
   "outputs": [],
   "source": [
    "def getPendingTransactions():\n",
    "    global blockchain\n",
    "    global pending_peer_requests\n",
    "    for peer_port in peer_nodes:\n",
    "        node_url = \"http://localhost:\" + str(peer_port)\n",
    "        peer_requests_json = requests.get(node_url + \"/getPendingTransactions\").content\n",
    "        peer_requests = json.loads(peer_requests_json)\n",
    "        \n",
    "        pending_peer_requests.append(peer_requests)"
   ]
  },
  {
   "cell_type": "code",
   "execution_count": null,
   "metadata": {},
   "outputs": [],
   "source": []
  },
  {
   "cell_type": "code",
   "execution_count": 11,
   "metadata": {},
   "outputs": [],
   "source": [
    "@node.route('/createBlock', methods=['GET'])\n",
    "def create_block():\n",
    "    global blockchain\n",
    "    global pending_peer_requests\n",
    "    find_new_longest_chain()\n",
    "    index = blockchain[-1].index +1\n",
    "    timestamp = str(date.datetime.now())\n",
    "    getPendingTransactions()\n",
    "    data = pending_peer_requests\n",
    "    pending_peer_requests = []\n",
    "    previous_hash = blockchain[-1].hash\n",
    "    \n",
    "    new_block = Block(index,timestamp,data,0,previous_hash)\n",
    "    new_block.proof_of_work()\n",
    "    \n",
    "    print(new_block.index,new_block.timestamp,new_block.data,new_block.previous_hash,new_block.nonce,new_block.hash)\n",
    "    blockchain.append(new_block)\n",
    "    \n",
    "    print(blockchain)\n",
    "    return \"block created successfully\""
   ]
  },
  {
   "cell_type": "code",
   "execution_count": 12,
   "metadata": {},
   "outputs": [
    {
     "name": "stdout",
     "output_type": "stream",
     "text": [
      " * Serving Flask app \"__main__\" (lazy loading)\n",
      " * Environment: production\n",
      "   WARNING: Do not use the development server in a production environment.\n",
      "   Use a production WSGI server instead.\n",
      " * Debug mode: off\n"
     ]
    },
    {
     "name": "stderr",
     "output_type": "stream",
     "text": [
      " * Running on http://0.0.0.0:9000/ (Press CTRL+C to quit)\n",
      "127.0.0.1 - - [03/Nov/2020 09:23:34] \"\u001b[37mGET /getchain HTTP/1.1\u001b[0m\" 200 -\n",
      "127.0.0.1 - - [03/Nov/2020 09:23:52] \"\u001b[37mGET /createBlock HTTP/1.1\u001b[0m\" 200 -\n"
     ]
    },
    {
     "name": "stdout",
     "output_type": "stream",
     "text": [
      "[<__main__.Block object at 0x7fd55d168320>]\n",
      "finding PoW\n",
      "1 2020-11-03 09:23:52.639956 [[{'to': 'e', 'amount': 10, 'from': 'user1_addr'}, {'to': 'f', 'amount': 10, 'from': 'user1_addr'}, {'to': 'g', 'amount': 10, 'from': 'user1_addr'}], [], []] c64b958390bebecf84e44327b226b6fd36f4c01b4e240dc5af377d315ad299eb 135 0008968996be1d1750e3e2a486ee9e3fc0145a4669e600a65d67c201f03603de\n",
      "1 2020-11-03 09:23:52.639956 [[{'to': 'e', 'amount': 10, 'from': 'user1_addr'}, {'to': 'f', 'amount': 10, 'from': 'user1_addr'}, {'to': 'g', 'amount': 10, 'from': 'user1_addr'}], [], []] c64b958390bebecf84e44327b226b6fd36f4c01b4e240dc5af377d315ad299eb 135 0008968996be1d1750e3e2a486ee9e3fc0145a4669e600a65d67c201f03603de\n",
      "[<__main__.Block object at 0x7fd55d168320>, <__main__.Block object at 0x7fd55d1326d8>]\n"
     ]
    },
    {
     "name": "stderr",
     "output_type": "stream",
     "text": [
      "127.0.0.1 - - [03/Nov/2020 09:23:57] \"\u001b[37mGET /getchain HTTP/1.1\u001b[0m\" 200 -\n",
      "127.0.0.1 - - [03/Nov/2020 09:24:02] \"\u001b[37mGET /getchain HTTP/1.1\u001b[0m\" 200 -\n",
      "127.0.0.1 - - [03/Nov/2020 09:24:08] \"\u001b[37mGET /getchain HTTP/1.1\u001b[0m\" 200 -\n"
     ]
    }
   ],
   "source": [
    "node.run(host='0.0.0.0', port=PORT, threaded=True, debug=False)"
   ]
  },
  {
   "cell_type": "code",
   "execution_count": null,
   "metadata": {},
   "outputs": [],
   "source": []
  }
 ],
 "metadata": {
  "kernelspec": {
   "display_name": "Python 3",
   "language": "python",
   "name": "python3"
  },
  "language_info": {
   "codemirror_mode": {
    "name": "ipython",
    "version": 3
   },
   "file_extension": ".py",
   "mimetype": "text/x-python",
   "name": "python",
   "nbconvert_exporter": "python",
   "pygments_lexer": "ipython3",
   "version": "3.7.3"
  }
 },
 "nbformat": 4,
 "nbformat_minor": 2
}
