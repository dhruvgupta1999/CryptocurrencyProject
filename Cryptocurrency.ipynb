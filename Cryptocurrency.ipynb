{
 "cells": [
  {
   "cell_type": "markdown",
   "metadata": {},
   "source": [
    "https://bitcoin.stackexchange.com/questions/12427/can-someone-explain-how-the-bitcoin-blockchain-works/42515#42515"
   ]
  },
  {
   "cell_type": "markdown",
   "metadata": {},
   "source": [
    "The Bitcoin system orders transactions by placing them in groups\n",
    "called blocks and then linking these blocks through what is called Blockchain. \n",
    "`The transactions in one block are considered to have happened at the same time.`\n",
    "\n",
    "The fingerprint, called a hash, takes a lot of computing time and energy to generate initially(This time and energy increases or decreases depending upon the total computing power present with the miners). It thus serves as a proof that the miner who added the block to the blockchain did the computational work to earn a bitcoin reward (for this reason, Bitcoin is said to use a “proof-of-work” protocol). This hash is just a merkle hash of all the transactions included in this block. It also serves as a kind of seal, since altering the block would require generating a new hash. Verifying whether or not the hash matches its block, however, is easy, and once the nodes have done so they update their respective copies of the blockchain with the new block. This is the consensus protocol.\n",
    "\n",
    "The final security element is that the hashes also serve as the links in the blockchain: each block includes the previous block’s unique hash. So if you want to change an entry in the ledger retroactively, you have to calculate a new hash not only for the block it’s in but also for every subsequent block. And you have to do this faster than the other nodes can add new blocks to the chain (On an average a new block is added every 10 minutes). So unless you have computers that are more powerful than the rest of the nodes combined (and even then, success isn’t guaranteed), all the alterations needs to be done in 10 minutes window, any blocks you add will conflict with existing ones, and the other nodes will automatically reject your alterations. This is what makes the blockchain tamperproof, or “immutable.”"
   ]
  },
  {
   "cell_type": "markdown",
   "metadata": {},
   "source": [
    "__proof-of-work algorithm:__ \n",
    "\n",
    "each miner receives a list of pending transactions from the network,\n",
    "the miner takes a certain number of transactions(greater than a threshold) and attempts to generate a block by finding an answer to  a mathematical problem.\n",
    "Example mathematical problem: find a number that when combined with transaction data, previous block's hash and the current timestamp generates a hash containing a certain x number of leading zeroes.\n",
    "It involves a lot of computation to find the answer.\n",
    "\n",
    "But say the answer is 886, now verifying whether the number 886 along with all the other data generates a hash of x leading zeroes is very easy.\n",
    "The other nodes (non-miners as well) then do the verification task and append the block to their chain. Then obiously if they were mining, they have to mine with a new value of previous hash.\n",
    "The task of verification and updation of blockchain on the node is handled based on `consensus protocol`."
   ]
  },
  {
   "cell_type": "markdown",
   "metadata": {},
   "source": [
    "code from : https://gist.github.com/aunyks/47d157f8bc7d1829a729c2a6a919c173\n",
    "\n",
    "my thoughts on additions to this code:\n",
    " - each transaction must involve a private key signature from the sender to prevent others creating false transaction\n",
    "\n",
    " - consensus algorithm should invoolve making sure that the other chains received have valid blocks, basically instead of getting all other chains, just get the newly generated block.This function is still a confusion for me.\n",
    "\n",
    " - poW algo obviously involves a problem like the one given above and not just incrementing to a multiple of 9"
   ]
  },
  {
   "cell_type": "markdown",
   "metadata": {},
   "source": [
    "doubts:\n",
    "https://bitcoin.stackexchange.com/questions/95504/do-miners-validate-each-others-blocks/95509#95509\n",
    "\n",
    "https://bitcoin.stackexchange.com/questions/61833/what-is-the-exact-moment-when-a-miner-gets-rewarded\n",
    "\n",
    "https://bitcoin.stackexchange.com/questions/57683/does-the-block-reward-comes-from-a-bitcoin-treasury-if-yes-then-how-is-it-issu"
   ]
  },
  {
   "cell_type": "code",
   "execution_count": 50,
   "metadata": {},
   "outputs": [],
   "source": [
    "from flask import Flask #flask is similar to django\n",
    "from flask import request\n",
    "import json\n",
    "import requests\n",
    "import hashlib as hasher\n",
    "import datetime as date"
   ]
  },
  {
   "cell_type": "code",
   "execution_count": 51,
   "metadata": {},
   "outputs": [],
   "source": [
    "node = Flask(__name__)"
   ]
  },
  {
   "cell_type": "markdown",
   "metadata": {},
   "source": [
    "we are instantiating a Flask object by passing `__name__` argument to the Flask constructor. The Flask constructor has one required argument which is the name of the application package. Most of the time `__name__` is the correct value."
   ]
  },
  {
   "cell_type": "code",
   "execution_count": 52,
   "metadata": {},
   "outputs": [],
   "source": [
    "class Block:\n",
    "    def __init__(self,index,timestamp,data,previous_hash):\n",
    "        self.index = index\n",
    "        self.timestamp = timestamp\n",
    "        self.data = data\n",
    "        self.previous_hash = previous_hash #should this be stored? security?\n",
    "        self.hash = self.hash_block() #create current hash\n",
    "        \n",
    "    def hash_block(self):\n",
    "        sha = hasher.sha256()\n",
    "        #masala to hash upon, note: it needs to be encoded to utf-8\n",
    "        masala = (str(self.index)+str(self.timestamp)+str(self.data)+str(self.previous_hash)).encode('utf-8') \n",
    "        sha.update(masala)\n",
    "        return sha.hexdigest()"
   ]
  },
  {
   "cell_type": "code",
   "execution_count": 53,
   "metadata": {},
   "outputs": [],
   "source": [
    "#create first block i.e genesis block\n",
    "\n",
    "def create_genesis_block():\n",
    "    initial_data = {\n",
    "        \"proof-of-work\": 9,\n",
    "        \"transactions\" : None\n",
    "    }\n",
    "    return Block(0,date.datetime.now(), initial_data , \"NoPreviousHashYet\")"
   ]
  },
  {
   "cell_type": "code",
   "execution_count": 54,
   "metadata": {},
   "outputs": [],
   "source": [
    "# A completely random address of the owner of this node\n",
    "miner_address = \"q3nf394hjg-random-miner-address-34nf3i4nflkn3oi\""
   ]
  },
  {
   "cell_type": "code",
   "execution_count": 55,
   "metadata": {},
   "outputs": [],
   "source": [
    "blockchain = []\n",
    "blockchain.append(create_genesis_block())\n",
    "\n",
    "#store transaction of this node as json objects\n",
    "mynode_transactions = []\n",
    "\n",
    "\n",
    "#store url of peer nodes\n",
    "peer_nodes = []\n",
    "\n",
    "# a variable to decide if we are mining or not\n",
    "mining = True"
   ]
  },
  {
   "cell_type": "code",
   "execution_count": 56,
   "metadata": {},
   "outputs": [],
   "source": [
    "@node.route('/txion', methods=['POST'])\n",
    "def transaction():\n",
    "    #a json object is sent here containing details of the new transaction\n",
    "    new_transaction = request.get_json()\n",
    "    mynode_transactions.append(new_transaction)\n",
    "    \n",
    "    print(\"New transaction\")\n",
    "    print(\"From:\",new_transaction[\"from\"].encode('ascii','replace'))\n",
    "    print(\"To:\",new_transaction[\"to\"].encode('ascii','replace'))\n",
    "    print(\"Amount:\",new_transaction[\"amount\"])\n",
    "    \n",
    "    #now send the client who sent request a msg\n",
    "    return \"Transaction successful\\n\""
   ]
  },
  {
   "cell_type": "markdown",
   "metadata": {},
   "source": [
    "`Do not execute above function again` or you will get assertion error\n",
    "\n",
    "/txion has already been mapped to transaction().\n",
    "Executing it again will make it think that you are assigning /txion to another endpoint which btw is also transaction()"
   ]
  },
  {
   "cell_type": "code",
   "execution_count": 57,
   "metadata": {},
   "outputs": [],
   "source": [
    "@node.route('/getchain', methods=['GET'])\n",
    "def send_chain():\n",
    "    \n",
    "    chain_to_send = []\n",
    "    \n",
    "    #convert blocks into dictionaries so that they can be sent as json objects\n",
    "    for block in blockchain:\n",
    "        chain_to_send.append({\n",
    "            \"index\": block.index,\n",
    "            \"timestamp\": block.timestamp,\n",
    "            \"data\" : block.data,\n",
    "            \"hash\" : block.hash\n",
    "        })\n",
    "        \n",
    "    #convert the list of dicts into json object\n",
    "    chain_to_send = json.dumps(chain_to_send)\n",
    "    return  chain_to_send"
   ]
  },
  {
   "cell_type": "code",
   "execution_count": null,
   "metadata": {},
   "outputs": [],
   "source": [
    "def get_peer_chains():\n",
    "    #get blockchains of peer nodes\n",
    "    \n",
    "    other_chains  = []\n",
    "    for node_url in peer_nodes:\n",
    "        \n",
    "        #get their chains using a get request\n",
    "        chain = requests.get(node_url+\"/blocks\").content\n",
    "        \n",
    "        #convert JSON object to a python dictionary\n",
    "        chain = json.loads(block)\n",
    "        \n",
    "        #Add it to our list\n",
    "        other_chains.append(chain)\n",
    "    return other_chains"
   ]
  },
  {
   "cell_type": "code",
   "execution_count": null,
   "metadata": {},
   "outputs": [],
   "source": [
    "def consensus():\n",
    "    other_chains = get_peer_chains()\n",
    "    \n",
    "    #we are going store longest chain as valid chain\n",
    "    longest_chain = blockchain\n",
    "    for chain in other_chains:\n",
    "        if(len(longest_chain)) < len(chain):\n",
    "            longest_chain = chain\n",
    "    \n",
    "    blockchain = longest_chain"
   ]
  },
  {
   "cell_type": "code",
   "execution_count": null,
   "metadata": {},
   "outputs": [],
   "source": [
    "def proof_of_work(last_proof):\n",
    "    # Create a variable that we will use to find\n",
    "    # our next proof of work\n",
    "    incrementor = last_proof + 1\n",
    "    \n",
    "    #we have taken mining task to be to find next multiple of last_proof\n",
    "    while not (incrementor % 9 == 0 and incrementor % last_proof == 0):\n",
    "        incrementor += 1\n",
    "    # Once that number is found,\n",
    "    # we can return it as a proof\n",
    "    # of our work\n",
    "    return incrementor"
   ]
  },
  {
   "cell_type": "markdown",
   "metadata": {},
   "source": [
    "\n"
   ]
  },
  {
   "cell_type": "code",
   "execution_count": null,
   "metadata": {},
   "outputs": [
    {
     "name": "stdout",
     "output_type": "stream",
     "text": [
      " * Serving Flask app \"__main__\" (lazy loading)\n",
      " * Environment: production\n",
      "   WARNING: Do not use the development server in a production environment.\n",
      "   Use a production WSGI server instead.\n",
      " * Debug mode: off\n"
     ]
    },
    {
     "name": "stderr",
     "output_type": "stream",
     "text": [
      " * Running on http://127.0.0.1:5000/ (Press CTRL+C to quit)\n",
      "127.0.0.1 - - [26/Apr/2020 11:22:12] \"\u001b[37mPOST /txion HTTP/1.1\u001b[0m\" 200 -\n"
     ]
    },
    {
     "name": "stdout",
     "output_type": "stream",
     "text": [
      "New transaction\n",
      "From: b'akjflw'\n",
      "To: b'fjlakdj'\n",
      "Amount: 3\n"
     ]
    },
    {
     "name": "stderr",
     "output_type": "stream",
     "text": [
      "127.0.0.1 - - [26/Apr/2020 11:22:14] \"\u001b[37mGET /mine HTTP/1.1\u001b[0m\" 200 -\n"
     ]
    }
   ],
   "source": [
    "@node.route('/mine', methods = ['GET'])\n",
    "def mine():\n",
    "    \n",
    "    last_block = blockchain[-1]\n",
    "    last_proof = last_block.data['proof-of-work']\n",
    "    \n",
    "    # mine for block, and get proof of work\n",
    "    proof = proof_of_work(last_proof)\n",
    "    \n",
    "    mynode_transactions.append(\n",
    "    { \"from\": \"network\", \"to\": miner_address, \"amount\": 1 }\n",
    "    )\n",
    "    \n",
    "    new_block_data = {\n",
    "        \"proof-of-work\": proof,\n",
    "        \"transactions\": list(mynode_transactions)\n",
    "    }\n",
    "    new_block_index = last_block.index + 1\n",
    "    new_block_timestamp = this_timestamp = date.datetime.now()\n",
    "    last_block_hash = last_block.hash\n",
    "    #empty transaction list as all transactions have been appended to  new_block_data\n",
    "    mynode_transactions[:] = []\n",
    "    #now create new block\n",
    "    \n",
    "    mined_block = Block(\n",
    "    new_block_index,\n",
    "    new_block_timestamp,\n",
    "    new_block_data,\n",
    "    last_block_hash\n",
    "    )\n",
    "    blockchain.append(mined_block)\n",
    "    \n",
    "    #let client (shouldn't it be all peers?) know that we mined a block\n",
    "    return json.dumps({\n",
    "        \"index\" : new_block_index,\n",
    "        \"timestamp\" : str(new_block_timestamp),\n",
    "        \"data\" : new_block_data,\n",
    "        \"hash\" : last_block_hash\n",
    "    }) + \"\\n\"\n",
    "\n",
    "node.run()"
   ]
  },
  {
   "cell_type": "code",
   "execution_count": null,
   "metadata": {},
   "outputs": [],
   "source": []
  }
 ],
 "metadata": {
  "kernelspec": {
   "display_name": "Python 3",
   "language": "python",
   "name": "python3"
  },
  "language_info": {
   "codemirror_mode": {
    "name": "ipython",
    "version": 3
   },
   "file_extension": ".py",
   "mimetype": "text/x-python",
   "name": "python",
   "nbconvert_exporter": "python",
   "pygments_lexer": "ipython3",
   "version": "3.7.3"
  }
 },
 "nbformat": 4,
 "nbformat_minor": 2
}
